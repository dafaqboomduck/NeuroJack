{
 "cells": [
  {
   "cell_type": "markdown",
   "id": "69333c2b",
   "metadata": {},
   "source": [
    "# NeuroJack AI"
   ]
  },
  {
   "cell_type": "markdown",
   "id": "d80ca892",
   "metadata": {},
   "source": [
    "### 1. Introduction\n",
    "\n",
    "This notebook explores a variety of baseline agents designed to play Blackjack using the OpenAI Gym environment `Blackjack-v1`. The goal is to establish reference performance levels for comparison with more advanced AI learning models.\n",
    "\n",
    "We implement and evaluate the following agents:\n",
    "\n",
    "- Random Policy Agent: Selects actions randomly, serving as a naive benchmark.\n",
    "\n",
    "- Fixed Policy Agent: Follows a simple deterministic strategy (e.g., always \"stick\" or \"hit\" under certain conditions).\n",
    "\n",
    "- Q-Learning Agent: Uses a basic tabular Q-learning algorithm to learn an optimal policy from interaction with the environment.\n",
    "\n",
    "Each agent is trained and tested over multiple episodes to assess its performance. These baselines provide a foundation for understanding how different levels of strategy affect success in Blackjack, and they serve as points of comparison for more complex RL approaches explored later."
   ]
  },
  {
   "cell_type": "markdown",
   "id": "ca817d5f",
   "metadata": {},
   "source": [
    "### 2. Environment Setup\n",
    "\n",
    "We initialize the Blackjack environment and outline the state and action spaces. This section covers necessary imports and environment-specific details essential for understanding how the agents interact with the game."
   ]
  },
  {
   "cell_type": "code",
   "execution_count": 1,
   "id": "aef297eb",
   "metadata": {},
   "outputs": [],
   "source": [
    "# Import necessary libraries for environment interaction, numerical operations, plotting, and data structures.\n",
    "import gym\n",
    "import numpy as np\n",
    "import matplotlib.pyplot as plt\n",
    "from collections import defaultdict\n",
    "import random\n",
    "\n",
    "# Create the Blackjack environment\n",
    "env = gym.make(\"Blackjack-v1\", sab=True)  "
   ]
  },
  {
   "cell_type": "markdown",
   "id": "2a9a6175",
   "metadata": {},
   "source": [
    "### 3. Baseline Policies"
   ]
  },
  {
   "cell_type": "markdown",
   "id": "ad91d6a0",
   "metadata": {},
   "source": [
    "#### 3.1 Random Policy\n",
    "\n",
    "A naive agent that selects actions uniformly at random. This policy serves as a minimal baseline, representing the performance of an unskilled player."
   ]
  },
  {
   "cell_type": "code",
   "execution_count": 9,
   "id": "658f6647",
   "metadata": {},
   "outputs": [],
   "source": [
    "def random_policy(state):\n",
    "    \"\"\"\n",
    "    Selects an action at random from the action space.\n",
    "\n",
    "    Parameters:\n",
    "        state (tuple): The current state of the environment (not used in this policy).\n",
    "\n",
    "    Returns:\n",
    "        int: Randomly chosen action (0 for stick, 1 for hit).\n",
    "    \"\"\"\n",
    "    return env.action_space.sample()\n",
    "\n",
    "\n",
    "def run_random_agent(episodes=10000):\n",
    "    \"\"\"\n",
    "    Runs the Blackjack environment using a random policy for a given number of episodes.\n",
    "\n",
    "    Parameters:\n",
    "        episodes (int): Number of episodes to simulate.\n",
    "\n",
    "    Returns:\n",
    "        list: A list containing the final reward for each episode.\n",
    "              Reward is +1 for a win, 0 for a draw, and -1 for a loss.\n",
    "    \"\"\"\n",
    "    rewards = []  # List to store rewards from each episode\n",
    "\n",
    "    for _ in range(episodes):\n",
    "        state = env.reset()[0]  # Reset environment and get initial state\n",
    "        done = False\n",
    "\n",
    "        while not done:\n",
    "            action = random_policy(state)  # Select a random action\n",
    "            state, reward, terminated, truncated, _ = env.step(action)  # Take a step in the environment\n",
    "            done = terminated or truncated  # Check if the episode has ended\n",
    "\n",
    "        rewards.append(reward)  # Store the final reward after episode ends\n",
    "\n",
    "    return rewards"
   ]
  },
  {
   "cell_type": "markdown",
   "id": "de174af6",
   "metadata": {},
   "source": [
    "#### 3.2 One-Move Policy\n",
    "\n",
    "A simple heuristic-based agent that hits when the player's hand sum is less than 18 and sticks otherwise. This policy introduces a basic strategy for comparison."
   ]
  },
  {
   "cell_type": "code",
   "execution_count": 10,
   "id": "c18f8c16",
   "metadata": {},
   "outputs": [],
   "source": [
    "def one_move_policy(state):\n",
    "    \"\"\"\n",
    "    A simple deterministic policy based on the player's current hand total.\n",
    "    \n",
    "    Parameters:\n",
    "        state (tuple): A tuple representing the current state of the game,\n",
    "                       formatted as (player_sum, dealer_card, usable_ace).\n",
    "    \n",
    "    Returns:\n",
    "        int: Action to take (0 = hit, 1 = stick).\n",
    "             Hit if player's sum is less than 18, otherwise stick.\n",
    "    \"\"\"\n",
    "    player_sum, _, _ = state\n",
    "    return 0 if player_sum < 18 else 1  # 0 = hit, 1 = stick\n",
    "\n",
    "\n",
    "def run_one_move_agent(episodes=10000):\n",
    "    \"\"\"\n",
    "    Runs the Blackjack environment using the one-move policy over multiple episodes.\n",
    "\n",
    "    Parameters:\n",
    "        episodes (int): Number of episodes to simulate.\n",
    "\n",
    "    Returns:\n",
    "        list: A list containing the final reward for each episode.\n",
    "              Reward is +1 for a win, 0 for a draw, and -1 for a loss.\n",
    "    \"\"\"\n",
    "    rewards = []  # List to store rewards from each episode\n",
    "\n",
    "    for _ in range(episodes):\n",
    "        state = env.reset()[0]  # Reset the environment and get the initial state\n",
    "        done = False\n",
    "\n",
    "        while not done:\n",
    "            action = one_move_policy(state)  # Use one-move policy to decide the action\n",
    "            state, reward, terminated, truncated, _ = env.step(action)  # Take action and observe results\n",
    "            done = terminated or truncated  # Check if episode has ended\n",
    "\n",
    "        rewards.append(reward)  # Store reward at the end of the episode\n",
    "\n",
    "    return rewards"
   ]
  },
  {
   "cell_type": "markdown",
   "id": "258af7a5",
   "metadata": {},
   "source": [
    "#### 3.3. Evaluating Baseline Policies\n",
    "\n",
    "We evaluate both the random and one-move policies by running them for multiple episodes and collecting rewards.\n"
   ]
  },
  {
   "cell_type": "code",
   "execution_count": 11,
   "id": "1febbf2d",
   "metadata": {},
   "outputs": [
    {
     "name": "stdout",
     "output_type": "stream",
     "text": [
      "Random Policy average reward over 10k episodes: -0.4081\n"
     ]
    }
   ],
   "source": [
    "# Run and evaluate\n",
    "random_rewards = run_random_agent()\n",
    "print(f\"Random Policy average reward over 10k episodes: {np.mean(random_rewards):.4f}\")"
   ]
  },
  {
   "cell_type": "code",
   "execution_count": 12,
   "id": "7260d917",
   "metadata": {},
   "outputs": [
    {
     "name": "stdout",
     "output_type": "stream",
     "text": [
      "One-Move Policy average reward over 10k episodes: -0.5740\n"
     ]
    }
   ],
   "source": [
    "# Run and evaluate\n",
    "one_move_rewards = run_one_move_agent()\n",
    "print(f\"One-Move Policy average reward over 10k episodes: {np.mean(one_move_rewards):.4f}\")"
   ]
  },
  {
   "cell_type": "markdown",
   "id": "f35c8887",
   "metadata": {},
   "source": [
    "### 4. Q-Learning Agent"
   ]
  },
  {
   "cell_type": "markdown",
   "id": "91464218",
   "metadata": {},
   "source": [
    "#### 4.1 Training the Q-Learning Agent\n",
    "\n",
    "We implement a tabular Q-learning agent with parameters for learning rate (alpha), discount factor (gamma), and exploration rate (epsilon). This section describes the training process over many episodes, using an ε-greedy policy for exploration."
   ]
  },
  {
   "cell_type": "code",
   "execution_count": 2,
   "id": "dd49b774",
   "metadata": {},
   "outputs": [],
   "source": [
    "def train_q_agent(episodes=500_000, alpha=0.1, gamma=1.0, epsilon=0.1):\n",
    "    \"\"\"\n",
    "    Trains a Q-learning agent to play Blackjack using the tabular method.\n",
    "\n",
    "    Parameters:\n",
    "        episodes (int): Number of training episodes.\n",
    "        alpha (float): Learning rate (how much new information overrides old).\n",
    "        gamma (float): Discount factor (importance of future rewards).\n",
    "        epsilon (float): Exploration rate (probability of taking a random action).\n",
    "\n",
    "    Returns:\n",
    "        defaultdict: A Q-table mapping state-action pairs to values.\n",
    "    \"\"\"\n",
    "    Q = defaultdict(lambda: np.zeros(2))  # Initialize Q-table for 2 actions: hit (0) or stick (1)\n",
    "\n",
    "    for _ in range(episodes):\n",
    "        state = env.reset()[0]  # Reset environment and get initial state\n",
    "        done = False\n",
    "\n",
    "        while not done:\n",
    "            # ε-greedy action selection: explore or exploit\n",
    "            if np.random.rand() < epsilon:\n",
    "                action = env.action_space.sample()  # Random action (exploration)\n",
    "            else:\n",
    "                action = np.argmax(Q[state])  # Greedy action (exploitation)\n",
    "\n",
    "            # Take action and observe the result\n",
    "            next_state, reward, terminated, truncated, _ = env.step(action)\n",
    "            done = terminated or truncated\n",
    "\n",
    "            # Get value of the best next action (0 if episode ended)\n",
    "            best_next = 0 if done else np.max(Q[next_state])\n",
    "\n",
    "            # Q-learning update rule\n",
    "            Q[state][action] += alpha * (reward + gamma * best_next - Q[state][action])\n",
    "\n",
    "            # Move to the next state\n",
    "            state = next_state\n",
    "\n",
    "    return Q"
   ]
  },
  {
   "cell_type": "markdown",
   "id": "2b425b19",
   "metadata": {},
   "source": [
    "#### 4.2 Evaluating the Q-Learning Agent\n",
    "\n",
    "The trained Q-learning policy is evaluated over numerous episodes to assess its performance. Results are compared with the baseline policies to demonstrate learning improvements."
   ]
  },
  {
   "cell_type": "code",
   "execution_count": 3,
   "id": "2df38b10",
   "metadata": {},
   "outputs": [],
   "source": [
    "def evaluate_q_policy(Q, episodes=10000):\n",
    "    \"\"\"\n",
    "    Evaluates a learned Q-table policy by running it in the environment.\n",
    "\n",
    "    Parameters:\n",
    "        Q (dict): Trained Q-table.\n",
    "        episodes (int): Number of episodes to evaluate the policy.\n",
    "\n",
    "    Returns:\n",
    "        list: A list of rewards from each episode.\n",
    "              Reward is +1 for a win, 0 for a draw, and -1 for a loss.\n",
    "    \"\"\"\n",
    "    rewards = []  # List to store rewards from each episode\n",
    "\n",
    "    for _ in range(episodes):\n",
    "        state = env.reset()[0]  # Reset the environment\n",
    "        done = False\n",
    "\n",
    "        while not done:\n",
    "            action = np.argmax(Q[state])  # Choose the best known action from Q-table\n",
    "            state, reward, terminated, truncated, _ = env.step(action)  # Take the action\n",
    "            done = terminated or truncated  # Check if the episode has ended\n",
    "\n",
    "        rewards.append(reward)  # Store the outcome of the episode\n",
    "\n",
    "    return rewards"
   ]
  },
  {
   "cell_type": "code",
   "execution_count": null,
   "id": "9c7b3001",
   "metadata": {},
   "outputs": [
    {
     "name": "stdout",
     "output_type": "stream",
     "text": [
      "Q-Learning Policy average reward over 10k episodes: -0.0739\n"
     ]
    }
   ],
   "source": [
    "# Train Q-learning agent\n",
    "Q = train_q_agent(episodes=500_000)\n",
    "\n",
    "# Evaluate\n",
    "q_learning_rewards = evaluate_q_policy(Q)\n",
    "print(f\"Q-Learning Policy average reward over 10k episodes: {np.mean(q_learning_rewards):.4f}\")"
   ]
  },
  {
   "cell_type": "markdown",
   "id": "218d9d87",
   "metadata": {},
   "source": [
    "### 5. Hyperparameter Tuning\n",
    "\n",
    "To optimize the Q-learning agent’s performance, we perform a grid search over learning rate, discount factor, and exploration rate. This section outlines the tuning process and presents the best hyperparameters discovered along with their corresponding performance metrics."
   ]
  },
  {
   "cell_type": "code",
   "execution_count": null,
   "id": "1ed8f479",
   "metadata": {},
   "outputs": [
    {
     "name": "stdout",
     "output_type": "stream",
     "text": [
      "Training with alpha=0.01, gamma=0.7, epsilon=0.1 ...\n",
      "Avg reward: -0.0453\n",
      "Training with alpha=0.01, gamma=0.7, epsilon=0.2 ...\n",
      "Avg reward: -0.0579\n",
      "Training with alpha=0.01, gamma=0.7, epsilon=0.4 ...\n",
      "Avg reward: -0.0335\n",
      "Training with alpha=0.01, gamma=0.7, epsilon=0.6 ...\n",
      "Avg reward: -0.0505\n",
      "Training with alpha=0.01, gamma=0.8, epsilon=0.1 ...\n",
      "Avg reward: -0.0441\n",
      "Training with alpha=0.01, gamma=0.8, epsilon=0.2 ...\n",
      "Avg reward: -0.0474\n",
      "Training with alpha=0.01, gamma=0.8, epsilon=0.4 ...\n",
      "Avg reward: -0.0530\n",
      "Training with alpha=0.01, gamma=0.8, epsilon=0.6 ...\n",
      "Avg reward: -0.0316\n",
      "Training with alpha=0.01, gamma=0.9, epsilon=0.1 ...\n",
      "Avg reward: -0.0378\n",
      "Training with alpha=0.01, gamma=0.9, epsilon=0.2 ...\n",
      "Avg reward: -0.0499\n",
      "Training with alpha=0.01, gamma=0.9, epsilon=0.4 ...\n",
      "Avg reward: -0.0551\n",
      "Training with alpha=0.01, gamma=0.9, epsilon=0.6 ...\n",
      "Avg reward: -0.0360\n",
      "Training with alpha=0.01, gamma=0.99, epsilon=0.1 ...\n",
      "Avg reward: -0.0507\n",
      "Training with alpha=0.01, gamma=0.99, epsilon=0.2 ...\n",
      "Avg reward: -0.0416\n",
      "Training with alpha=0.01, gamma=0.99, epsilon=0.4 ...\n",
      "Avg reward: -0.0428\n",
      "Training with alpha=0.01, gamma=0.99, epsilon=0.6 ...\n",
      "Avg reward: -0.0408\n",
      "Training with alpha=0.05, gamma=0.7, epsilon=0.1 ...\n",
      "Avg reward: -0.0639\n",
      "Training with alpha=0.05, gamma=0.7, epsilon=0.2 ...\n",
      "Avg reward: -0.0547\n",
      "Training with alpha=0.05, gamma=0.7, epsilon=0.4 ...\n",
      "Avg reward: -0.0413\n",
      "Training with alpha=0.05, gamma=0.7, epsilon=0.6 ...\n",
      "Avg reward: -0.0688\n",
      "Training with alpha=0.05, gamma=0.8, epsilon=0.1 ...\n",
      "Avg reward: -0.0496\n",
      "Training with alpha=0.05, gamma=0.8, epsilon=0.2 ...\n",
      "Avg reward: -0.0461\n",
      "Training with alpha=0.05, gamma=0.8, epsilon=0.4 ...\n",
      "Avg reward: -0.0510\n",
      "Training with alpha=0.05, gamma=0.8, epsilon=0.6 ...\n",
      "Avg reward: -0.0667\n",
      "Training with alpha=0.05, gamma=0.9, epsilon=0.1 ...\n",
      "Avg reward: -0.0427\n",
      "Training with alpha=0.05, gamma=0.9, epsilon=0.2 ...\n",
      "Avg reward: -0.0496\n",
      "Training with alpha=0.05, gamma=0.9, epsilon=0.4 ...\n",
      "Avg reward: -0.0632\n",
      "Training with alpha=0.05, gamma=0.9, epsilon=0.6 ...\n",
      "Avg reward: -0.0430\n",
      "Training with alpha=0.05, gamma=0.99, epsilon=0.1 ...\n",
      "Avg reward: -0.0599\n",
      "Training with alpha=0.05, gamma=0.99, epsilon=0.2 ...\n",
      "Avg reward: -0.0651\n",
      "Training with alpha=0.05, gamma=0.99, epsilon=0.4 ...\n",
      "Avg reward: -0.0309\n",
      "Training with alpha=0.05, gamma=0.99, epsilon=0.6 ...\n",
      "Avg reward: -0.0553\n",
      "Training with alpha=0.1, gamma=0.7, epsilon=0.1 ...\n",
      "Avg reward: -0.0528\n",
      "Training with alpha=0.1, gamma=0.7, epsilon=0.2 ...\n",
      "Avg reward: -0.0810\n",
      "Training with alpha=0.1, gamma=0.7, epsilon=0.4 ...\n",
      "Avg reward: -0.0512\n",
      "Training with alpha=0.1, gamma=0.7, epsilon=0.6 ...\n",
      "Avg reward: -0.0576\n",
      "Training with alpha=0.1, gamma=0.8, epsilon=0.1 ...\n",
      "Avg reward: -0.0485\n",
      "Training with alpha=0.1, gamma=0.8, epsilon=0.2 ...\n",
      "Avg reward: -0.0594\n",
      "Training with alpha=0.1, gamma=0.8, epsilon=0.4 ...\n",
      "Avg reward: -0.0541\n",
      "Training with alpha=0.1, gamma=0.8, epsilon=0.6 ...\n",
      "Avg reward: -0.0561\n",
      "Training with alpha=0.1, gamma=0.9, epsilon=0.1 ...\n",
      "Avg reward: -0.0605\n",
      "Training with alpha=0.1, gamma=0.9, epsilon=0.2 ...\n",
      "Avg reward: -0.0538\n",
      "Training with alpha=0.1, gamma=0.9, epsilon=0.4 ...\n",
      "Avg reward: -0.0951\n",
      "Training with alpha=0.1, gamma=0.9, epsilon=0.6 ...\n",
      "Avg reward: -0.0715\n",
      "Training with alpha=0.1, gamma=0.99, epsilon=0.1 ...\n",
      "Avg reward: -0.0553\n",
      "Training with alpha=0.1, gamma=0.99, epsilon=0.2 ...\n",
      "Avg reward: -0.0605\n",
      "Training with alpha=0.1, gamma=0.99, epsilon=0.4 ...\n",
      "Avg reward: -0.0905\n",
      "Training with alpha=0.1, gamma=0.99, epsilon=0.6 ...\n",
      "Avg reward: -0.0641\n",
      "Training with alpha=0.2, gamma=0.7, epsilon=0.1 ...\n",
      "Avg reward: -0.0671\n",
      "Training with alpha=0.2, gamma=0.7, epsilon=0.2 ...\n",
      "Avg reward: -0.0849\n",
      "Training with alpha=0.2, gamma=0.7, epsilon=0.4 ...\n",
      "Avg reward: -0.0633\n",
      "Training with alpha=0.2, gamma=0.7, epsilon=0.6 ...\n",
      "Avg reward: -0.1035\n",
      "Training with alpha=0.2, gamma=0.8, epsilon=0.1 ...\n",
      "Avg reward: -0.0734\n",
      "Training with alpha=0.2, gamma=0.8, epsilon=0.2 ...\n",
      "Avg reward: -0.0770\n",
      "Training with alpha=0.2, gamma=0.8, epsilon=0.4 ...\n",
      "Avg reward: -0.0905\n",
      "Training with alpha=0.2, gamma=0.8, epsilon=0.6 ...\n",
      "Avg reward: -0.0557\n",
      "Training with alpha=0.2, gamma=0.9, epsilon=0.1 ...\n",
      "Avg reward: -0.0714\n",
      "Training with alpha=0.2, gamma=0.9, epsilon=0.2 ...\n",
      "Avg reward: -0.0763\n",
      "Training with alpha=0.2, gamma=0.9, epsilon=0.4 ...\n",
      "Avg reward: -0.0838\n",
      "Training with alpha=0.2, gamma=0.9, epsilon=0.6 ...\n",
      "Avg reward: -0.0755\n",
      "Training with alpha=0.2, gamma=0.99, epsilon=0.1 ...\n",
      "Avg reward: -0.0848\n",
      "Training with alpha=0.2, gamma=0.99, epsilon=0.2 ...\n",
      "Avg reward: -0.0838\n",
      "Training with alpha=0.2, gamma=0.99, epsilon=0.4 ...\n",
      "Avg reward: -0.0791\n",
      "Training with alpha=0.2, gamma=0.99, epsilon=0.6 ...\n",
      "Avg reward: -0.1105\n",
      "Best params: alpha=0.05, gamma=0.99, epsilon=0.4\n",
      "Best average reward over 10k episodes: -0.0309\n"
     ]
    }
   ],
   "source": [
    "# Define the grid of hyperparameters to search\n",
    "alpha_values = [0.01, 0.05, 0.1, 0.2]        # Learning rates\n",
    "gamma_values = [0.7, 0.8, 0.9, 0.99]         # Discount factors\n",
    "epsilon_values = [0.1, 0.2, 0.4, 0.6]        # Exploration rates\n",
    "\n",
    "best_params = None       # To store the best (alpha, gamma, epsilon) combination\n",
    "best_reward = -np.inf    # Initialize best reward as negative infinity\n",
    "\n",
    "# Perform grid search over all combinations of alpha, gamma, and epsilon\n",
    "for alpha in alpha_values:\n",
    "    for gamma in gamma_values:\n",
    "        for epsilon in epsilon_values:\n",
    "            print(f\"Training with alpha={alpha}, gamma={gamma}, epsilon={epsilon} ...\")\n",
    "\n",
    "            # Train Q-learning agent with current hyperparameters\n",
    "            Q = train_q_agent(episodes=500_000, alpha=alpha, gamma=gamma, epsilon=epsilon)\n",
    "\n",
    "            # Evaluate the trained agent\n",
    "            rewards = evaluate_q_policy(Q, episodes=10000)\n",
    "            avg_reward = np.mean(rewards)\n",
    "\n",
    "            # Display performance for current hyperparameter setting\n",
    "            print(f\"Avg reward: {avg_reward:.4f}\")\n",
    "\n",
    "            # Update best parameters if current config performs better\n",
    "            if avg_reward > best_reward:\n",
    "                best_reward = avg_reward\n",
    "                best_params = (alpha, gamma, epsilon)\n",
    "\n",
    "# Print the best hyperparameter combination and its corresponding reward\n",
    "print(f\"\\nBest params: alpha={best_params[0]}, gamma={best_params[1]}, epsilon={best_params[2]}\")\n",
    "print(f\"Best average reward over 10k episodes: {best_reward:.4f}\")"
   ]
  },
  {
   "cell_type": "code",
   "execution_count": null,
   "id": "380dc91e",
   "metadata": {},
   "outputs": [
    {
     "name": "stdout",
     "output_type": "stream",
     "text": [
      "Q-Learning Policy average reward over 10k episodes: -0.0532\n"
     ]
    }
   ],
   "source": [
    "# Train Q-learning agent\n",
    "Q_best = train_q_agent(episodes=500_000, alpha=0.05, gamma=0.99, epsilon=0.4)\n",
    "\n",
    "# Evaluate\n",
    "q_best_rewards = evaluate_q_policy(Q)\n",
    "print(f\"Q-Learning Policy average reward over 10k episodes: {np.mean(q_best_rewards):.4f}\")"
   ]
  },
  {
   "cell_type": "markdown",
   "id": "9e59a076",
   "metadata": {},
   "source": [
    "### 6. Results and Discussion\n",
    "\n",
    "We summarize and compare the performance of all agents through plots and statistical analysis. This section interprets the results, discusses the effectiveness of different policies, and addresses the limitations of the approaches explored."
   ]
  },
  {
   "cell_type": "code",
   "execution_count": null,
   "id": "c60a6a44",
   "metadata": {},
   "outputs": [],
   "source": [
    "def plot_results(results_dict):\n",
    "    \"\"\"\n",
    "    Plots the smoothed average rewards for different Blackjack agents.\n",
    "\n",
    "    Parameters:\n",
    "        results_dict (dict): A dictionary where keys are agent names (str)\n",
    "                             and values are lists of episode rewards (list of int).\n",
    "    \"\"\"\n",
    "    for label, rewards in results_dict.items():\n",
    "        # Smooth the reward curve using a moving average over 1000 episodes\n",
    "        avg = np.convolve(rewards, np.ones(1000)/1000, mode='valid')\n",
    "        plt.plot(avg, label=label)  # Plot the moving average for each agent\n",
    "\n",
    "    # Set plot title and axis labels\n",
    "    plt.title(\"Blackjack Baseline Agents\")\n",
    "    plt.xlabel(\"Episodes\")\n",
    "    plt.ylabel(\"Average Reward\")\n",
    "\n",
    "    # Add legend and grid for better readability\n",
    "    plt.legend()\n",
    "    plt.grid(True)\n",
    "    plt.show()"
   ]
  },
  {
   "cell_type": "code",
   "execution_count": 13,
   "id": "cb33c1c0",
   "metadata": {},
   "outputs": [
    {
     "data": {
      "image/png": "[encoded data removed]",
      "text/plain": [
       "<Figure size 1000x600 with 1 Axes>"
      ]
     },
     "metadata": {},
     "output_type": "display_data"
    }
   ],
   "source": [
    "# Set the size of the figure for better visibility\n",
    "plt.figure(figsize=(10, 6))\n",
    "\n",
    "# Plot the performance of all agents using their respective reward histories\n",
    "plot_results({\n",
    "    \"Random Policy\": random_rewards,         # Rewards from the random agent\n",
    "    \"One-Move Policy\": one_move_rewards,     # Rewards from the fixed-rule agent\n",
    "    \"Q-Learning Policy\": q_best_rewards      # Rewards from the hypertuned Q-learning agent\n",
    "})"
   ]
  },
  {
   "cell_type": "markdown",
   "id": "f71d3f6e",
   "metadata": {},
   "source": [
    "The evaluation results reveal notable differences in performance among the baseline agents. The random policy, with an average score of -0.4081, performs better than the one-move policy, which scores -0.5740, indicating that the simple heuristic did not improve outcomes over random actions. In contrast, the Q-learning agent significantly outperforms both, achieving an average score of -0.0739.\n",
    "\n",
    "After fine-tuning the hyperparameters, the Q-learning agent’s performance further improves to -0.0309, demonstrating the effectiveness of learning an optimized policy through reinforcement learning. These results highlight the clear advantage of adaptive learning methods over fixed or random strategies in the Blackjack environment."
   ]
  }
 ],
 "metadata": {
  "kernelspec": {
   "display_name": "blackjack-ai",
   "language": "python",
   "name": "python3"
  },
  "language_info": {
   "codemirror_mode": {
    "name": "ipython",
    "version": 3
   },
   "file_extension": ".py",
   "mimetype": "text/x-python",
   "name": "python",
   "nbconvert_exporter": "python",
   "pygments_lexer": "ipython3",
   "version": "3.11.13"
  }
 },
 "nbformat": 4,
 "nbformat_minor": 5
}
